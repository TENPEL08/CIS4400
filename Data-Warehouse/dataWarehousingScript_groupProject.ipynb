{
  "cells": [
    {
      "cell_type": "markdown",
      "id": "88c2a5d3",
      "metadata": {
        "id": "88c2a5d3"
      },
      "source": [
        "# Analyzing TSA Throughput Data and Historical Weather Information\n",
        "- A Data Warehousing for Analytics undergraduate student group project for CIS 4400 course.\n",
        "\n",
        "**Requirements**: https://docs.google.com/document/d/1djD0VMOxct1eiHj7tiv0HYmfNdgD4YXA1nGX4urJj_U/edit?usp=sharing\n",
        "\n",
        "**Link to TSA Data Set**: https://www.tsa.gov/foia/readingroom?page=1\n",
        "\n",
        "**Link to Weather API Data Set**: https://open-meteo.com/en/docs/historical-weather-api\n",
        "\n",
        "**Data Dictionary**: https://docs.google.com/spreadsheets/d/1IMv8EoMX21I7BfsayR2Qs0bNYVQoMm-qADgmQC2n_Bk/edit?usp=sharing\n",
        "\n",
        "# BigQuery Data Warehousing Script\n",
        "\n",
        "**Link To Data**: https://data.cityofnewyork.us/City-Government/NYC-Citywide-Annualized-Calendar-Sales-Update/w2pb-icbu\n",
        "\n",
        "**API end-point**: https://data.cityofnewyork.us/resource/w2pb-icbu.json\n",
        "\n",
        "**Data Dictionary**: https://data.cityofnewyork.us/api/views/w2pb-icbu/files/8ed811b4-8238-4b5e-9acc-1e33d8705498?download=true&filename=Annualized_Calendar_Sales_Update%20Data_Dictionary.xlsx\n",
        "\n",
        "**Cleaned Data Dictionary**: https://docs.google.com/spreadsheets/d/17XyGmnw2fZuTMCWVKB1XiWGHQuwqWOidm0w80lbIyjE/edit?usp=sharing\n",
        "\n"
      ]
    },
    {
      "cell_type": "markdown",
      "id": "64bdae7f",
      "metadata": {
        "id": "64bdae7f"
      },
      "source": [
        "# Grant Required Permissions to your Google Cloud Service Account to Create a BigQuery Data Set"
      ]
    },
    {
      "cell_type": "markdown",
      "id": "5d061580",
      "metadata": {
        "id": "5d061580"
      },
      "source": [
        "**1. Grant Permissions:**\n",
        "- Go to the Google Cloud Console.\n",
        "- Navigate to the IAM & Admin > IAM page.\n",
        "- Locate the user account associated with the credentials you are using.\n",
        "- Click \"ADD IAM CONDITION\"\n",
        "- Under the \"Role\" field, select the \"BigQuery Data Editor\"\n",
        "- Click \"SAVE\" to grant permissions.\n",
        "\n",
        "**Note: The BigQuery Data Editor role allows your service account access to edit all the contents of datasets. This step is important for loading your dataset from Google Cloud to the BigQuery Data Warehouse.**"
      ]
    },
    {
      "cell_type": "markdown",
      "id": "cb54749a",
      "metadata": {
        "id": "cb54749a"
      },
      "source": [
        "# Install the google-cloud-storage library"
      ]
    },
    {
      "cell_type": "code",
      "execution_count": 25,
      "id": "663df168",
      "metadata": {
        "id": "663df168"
      },
      "outputs": [],
      "source": [
        "%%capture\n",
        "pip install google-cloud-storage"
      ]
    },
    {
      "cell_type": "code",
      "source": [
        "from google.colab import drive\n",
        "\n",
        "# Mount Google Drive\n",
        "drive.mount('/content/drive')\n"
      ],
      "metadata": {
        "colab": {
          "base_uri": "https://localhost:8080/"
        },
        "id": "jqvvAXzkQu6d",
        "outputId": "cf568b59-3582-464e-ad85-66483d7be7b5"
      },
      "id": "jqvvAXzkQu6d",
      "execution_count": 5,
      "outputs": [
        {
          "output_type": "stream",
          "name": "stdout",
          "text": [
            "Drive already mounted at /content/drive; to attempt to forcibly remount, call drive.mount(\"/content/drive\", force_remount=True).\n"
          ]
        }
      ]
    },
    {
      "cell_type": "markdown",
      "id": "eb701df2",
      "metadata": {
        "id": "eb701df2"
      },
      "source": [
        "# Install the google-cloud-bigquery library"
      ]
    },
    {
      "cell_type": "code",
      "execution_count": 24,
      "id": "12118cff",
      "metadata": {
        "id": "12118cff"
      },
      "outputs": [],
      "source": [
        "%%capture\n",
        "pip install google-cloud-bigquery"
      ]
    },
    {
      "cell_type": "markdown",
      "id": "c86a5ae6",
      "metadata": {
        "id": "c86a5ae6"
      },
      "source": [
        "# Install upgraded bigquery library"
      ]
    },
    {
      "cell_type": "code",
      "execution_count": 23,
      "id": "aa861f70",
      "metadata": {
        "id": "aa861f70"
      },
      "outputs": [],
      "source": [
        "%%capture\n",
        "pip install --upgrade google-cloud-bigquery"
      ]
    },
    {
      "cell_type": "markdown",
      "id": "d426e43a",
      "metadata": {
        "id": "d426e43a"
      },
      "source": [
        "# Install pandas gcsfs"
      ]
    },
    {
      "cell_type": "code",
      "execution_count": 22,
      "id": "e51b76b4",
      "metadata": {
        "id": "e51b76b4"
      },
      "outputs": [],
      "source": [
        "%%capture\n",
        "pip install pandas gcsfs"
      ]
    },
    {
      "cell_type": "markdown",
      "id": "16deb34c",
      "metadata": {
        "id": "16deb34c"
      },
      "source": [
        "# Install pyarrow library\n",
        "\n",
        "**NOTE: Once pyarrow is installed, you should be able to use the load_table_from_dataframe function without encountering the ValueError from the \"Load Data into BigQuery Tables\" Cell.**\n",
        "\n",
        "**After installing pyarrow, you might need to restart your Python environment or Jupyter Notebook kernel before running the script again to ensure that the changes take effect.**"
      ]
    },
    {
      "cell_type": "code",
      "execution_count": 26,
      "id": "972b7202",
      "metadata": {
        "id": "972b7202"
      },
      "outputs": [],
      "source": [
        "%%capture\n",
        "pip install pyarrow"
      ]
    },
    {
      "cell_type": "markdown",
      "id": "479a2e8f",
      "metadata": {
        "id": "479a2e8f"
      },
      "source": [
        "# Import the Python 'os' module"
      ]
    },
    {
      "cell_type": "code",
      "execution_count": 6,
      "id": "10a62f7d",
      "metadata": {
        "id": "10a62f7d"
      },
      "outputs": [],
      "source": [
        "# CREATE A GOOGLE ACCESSKEY\n",
        "import os\n",
        "os.environ['GOOGLE_APPLICATION_CREDENTIALS'] = '/content/drive/MyDrive/Omakasi/GOOGLE_CLOUD_ACCESSKEY.json'"
      ]
    },
    {
      "cell_type": "markdown",
      "metadata": {
        "id": "X5nBO-xZRNE8"
      },
      "source": [
        "# Install pyarrow library\n",
        "\n",
        "**NOTE: Once pyarrow is installed, you should be able to use the load_table_from_dataframe function without encountering the ValueError from the \"Load Data into BigQuery Tables\" Cell.**\n",
        "\n",
        "**After installing pyarrow, you might need to restart your Python environment or Jupyter Notebook kernel before running the script again to ensure that the changes take effect.**"
      ],
      "id": "X5nBO-xZRNE8"
    },
    {
      "cell_type": "code",
      "execution_count": null,
      "metadata": {
        "id": "5sO7XkbmRNE-"
      },
      "outputs": [],
      "source": [
        "pip install pyarrow"
      ],
      "id": "5sO7XkbmRNE-"
    },
    {
      "cell_type": "markdown",
      "metadata": {
        "id": "gsVSIZT-RNE_"
      },
      "source": [
        "# Import the Python 'os' module"
      ],
      "id": "gsVSIZT-RNE_"
    },
    {
      "cell_type": "code",
      "execution_count": 7,
      "id": "20f73254",
      "metadata": {
        "id": "20f73254"
      },
      "outputs": [],
      "source": [
        "from google.cloud import bigquery"
      ]
    },
    {
      "cell_type": "markdown",
      "id": "773fb2ce",
      "metadata": {
        "id": "773fb2ce"
      },
      "source": [
        "# Create BigQuery Dataset"
      ]
    },
    {
      "cell_type": "code",
      "execution_count": 8,
      "id": "2d63eaaf",
      "metadata": {
        "id": "2d63eaaf",
        "colab": {
          "base_uri": "https://localhost:8080/",
          "height": 403
        },
        "outputId": "076a70c8-c18f-47b0-9e5f-699bdb6d044a",
        "collapsed": true
      },
      "outputs": [
        {
          "output_type": "error",
          "ename": "Conflict",
          "evalue": "ignored",
          "traceback": [
            "\u001b[0;31m---------------------------------------------------------------------------\u001b[0m",
            "\u001b[0;31mConflict\u001b[0m                                  Traceback (most recent call last)",
            "\u001b[0;32m<ipython-input-8-cc38f17c0854>\u001b[0m in \u001b[0;36m<cell line: 15>\u001b[0;34m()\u001b[0m\n\u001b[1;32m     13\u001b[0m \u001b[0mproject_id\u001b[0m \u001b[0;34m=\u001b[0m \u001b[0;34m'centering-seer-407304'\u001b[0m\u001b[0;34m\u001b[0m\u001b[0;34m\u001b[0m\u001b[0m\n\u001b[1;32m     14\u001b[0m \u001b[0mdataset_name\u001b[0m \u001b[0;34m=\u001b[0m \u001b[0;34m'jsoncme'\u001b[0m\u001b[0;34m\u001b[0m\u001b[0;34m\u001b[0m\u001b[0m\n\u001b[0;32m---> 15\u001b[0;31m \u001b[0mcreate_bigquery_dataset\u001b[0m\u001b[0;34m(\u001b[0m\u001b[0mproject_id\u001b[0m\u001b[0;34m,\u001b[0m \u001b[0mdataset_name\u001b[0m\u001b[0;34m)\u001b[0m\u001b[0;34m\u001b[0m\u001b[0;34m\u001b[0m\u001b[0m\n\u001b[0m",
            "\u001b[0;32m<ipython-input-8-cc38f17c0854>\u001b[0m in \u001b[0;36mcreate_bigquery_dataset\u001b[0;34m(project_id, dataset_name)\u001b[0m\n\u001b[1;32m      7\u001b[0m     \u001b[0mdataset\u001b[0m \u001b[0;34m=\u001b[0m \u001b[0mbigquery\u001b[0m\u001b[0;34m.\u001b[0m\u001b[0mDataset\u001b[0m\u001b[0;34m(\u001b[0m\u001b[0mdataset_id\u001b[0m\u001b[0;34m)\u001b[0m\u001b[0;34m\u001b[0m\u001b[0;34m\u001b[0m\u001b[0m\n\u001b[1;32m      8\u001b[0m     \u001b[0mdataset\u001b[0m\u001b[0;34m.\u001b[0m\u001b[0mlocation\u001b[0m \u001b[0;34m=\u001b[0m \u001b[0;34m\"US\"\u001b[0m\u001b[0;34m\u001b[0m\u001b[0;34m\u001b[0m\u001b[0m\n\u001b[0;32m----> 9\u001b[0;31m     \u001b[0mbigquery_client\u001b[0m\u001b[0;34m.\u001b[0m\u001b[0mcreate_dataset\u001b[0m\u001b[0;34m(\u001b[0m\u001b[0mdataset\u001b[0m\u001b[0;34m)\u001b[0m\u001b[0;34m\u001b[0m\u001b[0;34m\u001b[0m\u001b[0m\n\u001b[0m\u001b[1;32m     10\u001b[0m     \u001b[0mprint\u001b[0m\u001b[0;34m(\u001b[0m\u001b[0;34mf\"Dataset {dataset_id} created.\"\u001b[0m\u001b[0;34m)\u001b[0m\u001b[0;34m\u001b[0m\u001b[0;34m\u001b[0m\u001b[0m\n\u001b[1;32m     11\u001b[0m \u001b[0;34m\u001b[0m\u001b[0m\n",
            "\u001b[0;32m/usr/local/lib/python3.10/dist-packages/google/cloud/bigquery/client.py\u001b[0m in \u001b[0;36mcreate_dataset\u001b[0;34m(self, dataset, exists_ok, retry, timeout)\u001b[0m\n\u001b[1;32m    656\u001b[0m             \u001b[0mspan_attributes\u001b[0m \u001b[0;34m=\u001b[0m \u001b[0;34m{\u001b[0m\u001b[0;34m\"path\"\u001b[0m\u001b[0;34m:\u001b[0m \u001b[0mpath\u001b[0m\u001b[0;34m}\u001b[0m\u001b[0;34m\u001b[0m\u001b[0;34m\u001b[0m\u001b[0m\n\u001b[1;32m    657\u001b[0m \u001b[0;34m\u001b[0m\u001b[0m\n\u001b[0;32m--> 658\u001b[0;31m             api_response = self._call_api(\n\u001b[0m\u001b[1;32m    659\u001b[0m                 \u001b[0mretry\u001b[0m\u001b[0;34m,\u001b[0m\u001b[0;34m\u001b[0m\u001b[0;34m\u001b[0m\u001b[0m\n\u001b[1;32m    660\u001b[0m                 \u001b[0mspan_name\u001b[0m\u001b[0;34m=\u001b[0m\u001b[0;34m\"BigQuery.createDataset\"\u001b[0m\u001b[0;34m,\u001b[0m\u001b[0;34m\u001b[0m\u001b[0;34m\u001b[0m\u001b[0m\n",
            "\u001b[0;32m/usr/local/lib/python3.10/dist-packages/google/cloud/bigquery/client.py\u001b[0m in \u001b[0;36m_call_api\u001b[0;34m(self, retry, span_name, span_attributes, job_ref, headers, **kwargs)\u001b[0m\n\u001b[1;32m    806\u001b[0m                 \u001b[0mname\u001b[0m\u001b[0;34m=\u001b[0m\u001b[0mspan_name\u001b[0m\u001b[0;34m,\u001b[0m \u001b[0mattributes\u001b[0m\u001b[0;34m=\u001b[0m\u001b[0mspan_attributes\u001b[0m\u001b[0;34m,\u001b[0m \u001b[0mclient\u001b[0m\u001b[0;34m=\u001b[0m\u001b[0mself\u001b[0m\u001b[0;34m,\u001b[0m \u001b[0mjob_ref\u001b[0m\u001b[0;34m=\u001b[0m\u001b[0mjob_ref\u001b[0m\u001b[0;34m\u001b[0m\u001b[0;34m\u001b[0m\u001b[0m\n\u001b[1;32m    807\u001b[0m             ):\n\u001b[0;32m--> 808\u001b[0;31m                 \u001b[0;32mreturn\u001b[0m \u001b[0mcall\u001b[0m\u001b[0;34m(\u001b[0m\u001b[0;34m)\u001b[0m\u001b[0;34m\u001b[0m\u001b[0;34m\u001b[0m\u001b[0m\n\u001b[0m\u001b[1;32m    809\u001b[0m \u001b[0;34m\u001b[0m\u001b[0m\n\u001b[1;32m    810\u001b[0m         \u001b[0;32mreturn\u001b[0m \u001b[0mcall\u001b[0m\u001b[0;34m(\u001b[0m\u001b[0;34m)\u001b[0m\u001b[0;34m\u001b[0m\u001b[0;34m\u001b[0m\u001b[0m\n",
            "\u001b[0;32m/usr/local/lib/python3.10/dist-packages/google/api_core/retry.py\u001b[0m in \u001b[0;36mretry_wrapped_func\u001b[0;34m(*args, **kwargs)\u001b[0m\n\u001b[1;32m    347\u001b[0m                 \u001b[0mself\u001b[0m\u001b[0;34m.\u001b[0m\u001b[0m_initial\u001b[0m\u001b[0;34m,\u001b[0m \u001b[0mself\u001b[0m\u001b[0;34m.\u001b[0m\u001b[0m_maximum\u001b[0m\u001b[0;34m,\u001b[0m \u001b[0mmultiplier\u001b[0m\u001b[0;34m=\u001b[0m\u001b[0mself\u001b[0m\u001b[0;34m.\u001b[0m\u001b[0m_multiplier\u001b[0m\u001b[0;34m\u001b[0m\u001b[0;34m\u001b[0m\u001b[0m\n\u001b[1;32m    348\u001b[0m             )\n\u001b[0;32m--> 349\u001b[0;31m             return retry_target(\n\u001b[0m\u001b[1;32m    350\u001b[0m                 \u001b[0mtarget\u001b[0m\u001b[0;34m,\u001b[0m\u001b[0;34m\u001b[0m\u001b[0;34m\u001b[0m\u001b[0m\n\u001b[1;32m    351\u001b[0m                 \u001b[0mself\u001b[0m\u001b[0;34m.\u001b[0m\u001b[0m_predicate\u001b[0m\u001b[0;34m,\u001b[0m\u001b[0;34m\u001b[0m\u001b[0;34m\u001b[0m\u001b[0m\n",
            "\u001b[0;32m/usr/local/lib/python3.10/dist-packages/google/api_core/retry.py\u001b[0m in \u001b[0;36mretry_target\u001b[0;34m(target, predicate, sleep_generator, timeout, on_error, **kwargs)\u001b[0m\n\u001b[1;32m    189\u001b[0m     \u001b[0;32mfor\u001b[0m \u001b[0msleep\u001b[0m \u001b[0;32min\u001b[0m \u001b[0msleep_generator\u001b[0m\u001b[0;34m:\u001b[0m\u001b[0;34m\u001b[0m\u001b[0;34m\u001b[0m\u001b[0m\n\u001b[1;32m    190\u001b[0m         \u001b[0;32mtry\u001b[0m\u001b[0;34m:\u001b[0m\u001b[0;34m\u001b[0m\u001b[0;34m\u001b[0m\u001b[0m\n\u001b[0;32m--> 191\u001b[0;31m             \u001b[0;32mreturn\u001b[0m \u001b[0mtarget\u001b[0m\u001b[0;34m(\u001b[0m\u001b[0;34m)\u001b[0m\u001b[0;34m\u001b[0m\u001b[0;34m\u001b[0m\u001b[0m\n\u001b[0m\u001b[1;32m    192\u001b[0m \u001b[0;34m\u001b[0m\u001b[0m\n\u001b[1;32m    193\u001b[0m         \u001b[0;31m# pylint: disable=broad-except\u001b[0m\u001b[0;34m\u001b[0m\u001b[0;34m\u001b[0m\u001b[0m\n",
            "\u001b[0;32m/usr/local/lib/python3.10/dist-packages/google/cloud/_http/__init__.py\u001b[0m in \u001b[0;36mapi_request\u001b[0;34m(self, method, path, query_params, data, content_type, headers, api_base_url, api_version, expect_json, _target_object, timeout, extra_api_info)\u001b[0m\n\u001b[1;32m    492\u001b[0m \u001b[0;34m\u001b[0m\u001b[0m\n\u001b[1;32m    493\u001b[0m         \u001b[0;32mif\u001b[0m \u001b[0;32mnot\u001b[0m \u001b[0;36m200\u001b[0m \u001b[0;34m<=\u001b[0m \u001b[0mresponse\u001b[0m\u001b[0;34m.\u001b[0m\u001b[0mstatus_code\u001b[0m \u001b[0;34m<\u001b[0m \u001b[0;36m300\u001b[0m\u001b[0;34m:\u001b[0m\u001b[0;34m\u001b[0m\u001b[0;34m\u001b[0m\u001b[0m\n\u001b[0;32m--> 494\u001b[0;31m             \u001b[0;32mraise\u001b[0m \u001b[0mexceptions\u001b[0m\u001b[0;34m.\u001b[0m\u001b[0mfrom_http_response\u001b[0m\u001b[0;34m(\u001b[0m\u001b[0mresponse\u001b[0m\u001b[0;34m)\u001b[0m\u001b[0;34m\u001b[0m\u001b[0;34m\u001b[0m\u001b[0m\n\u001b[0m\u001b[1;32m    495\u001b[0m \u001b[0;34m\u001b[0m\u001b[0m\n\u001b[1;32m    496\u001b[0m         \u001b[0;32mif\u001b[0m \u001b[0mexpect_json\u001b[0m \u001b[0;32mand\u001b[0m \u001b[0mresponse\u001b[0m\u001b[0;34m.\u001b[0m\u001b[0mcontent\u001b[0m\u001b[0;34m:\u001b[0m\u001b[0;34m\u001b[0m\u001b[0;34m\u001b[0m\u001b[0m\n",
            "\u001b[0;31mConflict\u001b[0m: 409 POST https://bigquery.googleapis.com/bigquery/v2/projects/centering-seer-407304/datasets?prettyPrint=false: Already Exists: Dataset centering-seer-407304:jsoncme"
          ]
        }
      ],
      "source": [
        "from google.cloud import bigquery\n",
        "\n",
        "# Creating a function for creating a BigQuery dataset with your file stored in your Google Cloud\n",
        "def create_bigquery_dataset(project_id, dataset_name):\n",
        "    bigquery_client = bigquery.Client(project=project_id)\n",
        "    dataset_id = f\"{project_id}.{dataset_name}\"\n",
        "    dataset = bigquery.Dataset(dataset_id)\n",
        "    dataset.location = \"US\"\n",
        "    bigquery_client.create_dataset(dataset)\n",
        "    print(f\"Dataset {dataset_id} created.\")\n",
        "\n",
        "\n",
        "project_id = 'your_project_id'\n",
        "dataset_name = 'your_dataset_name'\n",
        "create_bigquery_dataset(project_id, dataset_name)"
      ]
    },
    {
      "cell_type": "markdown",
      "id": "794c0917",
      "metadata": {
        "id": "794c0917"
      },
      "source": [
        "# Create Tables in BigQuery"
      ]
    },
    {
      "cell_type": "code",
      "source": [
        "from google.cloud import bigquery\n",
        "from google.oauth2 import service_account\n",
        "\n",
        "# Getting the path to the service account key file from the environment variable\n",
        "service_account_path = os.environ.get('GOOGLE_APPLICATION_CREDENTIALS')\n",
        "\n",
        "# Setting your Google Cloud credentials using the environment variable\n",
        "credentials = service_account.Credentials.from_service_account_file(service_account_path)\n",
        "# Initializing a BigQuery client\n",
        "client = bigquery.Client(credentials=credentials, project=credentials.project_id)\n",
        "\n",
        "# Defining your dataset and table names\n",
        "dataset_name = 'jsoncme'\n",
        "fact_table_name = 'travel_fact'\n",
        "date_dim_table_name = 'dim_date'\n",
        "weather_dim_table_name = 'dim_weather'\n",
        "airport_dim_table_name = 'dim_airport'\n",
        "\n",
        "# Creating the dataset\n",
        "dataset_ref = client.dataset(dataset_name)\n",
        "client.get_dataset(dataset_ref)\n",
        "\n",
        "# Defining the schema for the fact table\n",
        "fact_table_schema = [\n",
        "    bigquery.SchemaField('travelid', 'INTEGER', mode='REQUIRED'),\n",
        "    bigquery.SchemaField('date_id', 'INTEGER'),\n",
        "    bigquery.SchemaField('airportid', 'INTEGER'),\n",
        "    bigquery.SchemaField('weatherid', 'INTEGER'),\n",
        "    bigquery.SchemaField('total', 'INTEGER'),\n",
        "    bigquery.SchemaField('temperature_2m', 'FLOAT'),\n",
        "    bigquery.SchemaField('precipitation', 'FLOAT'),\n",
        "    bigquery.SchemaField('relative_humidity_2m', 'FLOAT'),\n",
        "    bigquery.SchemaField('wind_speed_10m', 'FLOAT')\n",
        "]\n",
        "\n",
        "# Defining the schema for the date dimension table\n",
        "date_dim_table_schema = [\n",
        "    bigquery.SchemaField('date_id', 'INTEGER', mode='REQUIRED'),\n",
        "    bigquery.SchemaField('datetime', 'DATE'),\n",
        "    bigquery.SchemaField('day', 'INTEGER'),\n",
        "    bigquery.SchemaField('month', 'INTEGER'),\n",
        "    bigquery.SchemaField('year', 'INTEGER')\n",
        "]\n",
        "# Defining the schema for the weather table\n",
        "weather_dim_table_schema = [\n",
        "    bigquery.SchemaField('weatherid', 'INTEGER', mode='REQUIRED'),\n",
        "    bigquery.SchemaField('city', 'STRING'),\n",
        "    bigquery.SchemaField('weather_code', 'FLOAT')\n",
        "]\n",
        "\n",
        "# Defining the schema for the airport dimension table\n",
        "dim_airport_schema = [\n",
        "    bigquery.SchemaField('airportid', 'INTEGER', mode='REQUIRED'),\n",
        "    bigquery.SchemaField('airportcode', 'STRING'),\n",
        "    bigquery.SchemaField('state', 'STRING'),\n",
        "]\n",
        "\n",
        "# Creating the FACT_TABLE:\n",
        "fact_table_ref = dataset_ref.table(fact_table_name)\n",
        "try:\n",
        "    client.get_table(fact_table_ref)\n",
        "    print(f\"Table {fact_table_name} already exists in the dataset {dataset_name}.\")\n",
        "except:\n",
        "    fact_table = bigquery.Table(fact_table_ref, schema=fact_table_schema)\n",
        "    client.create_table(fact_table)\n",
        "    print(f\"{fact_table_name} Created\")\n",
        "\n",
        "# Creating the DIM_DATE table:\n",
        "date_dim_table_ref = dataset_ref.table(date_dim_table_name)\n",
        "try:\n",
        "    client.get_table(date_dim_table_ref)\n",
        "    print(f\"Table {date_dim_table_name} already exists in the dataset {dataset_name}.\")\n",
        "except:\n",
        "    date_dim_table = bigquery.Table(date_dim_table_ref, schema=date_dim_table_schema)\n",
        "    client.create_table(date_dim_table)\n",
        "    print(f\"{date_dim_table_name} Created\")\n",
        "\n",
        "# Creating the DIM_WEATHER table:\n",
        "weather_dim_table_ref = dataset_ref.table(weather_dim_table_name)\n",
        "try:\n",
        "    client.get_table(weather_dim_table_ref)\n",
        "    print(f\"Table {weather_dim_table_name} already exists in the dataset {dataset_name}.\")\n",
        "except:\n",
        "    weather_dim_table = bigquery.Table(weather_dim_table_ref, schema=weather_dim_table_schema)\n",
        "    client.create_table(weather_dim_table)\n",
        "    print(f\"{weather_dim_table_name} Created\")\n",
        "\n",
        "# Creating the airport_dim_table:\n",
        "airport_dim_table_ref = dataset_ref.table(airport_dim_table_name)\n",
        "try:\n",
        "    client.get_table(airport_dim_table_ref)\n",
        "    print(f\"Table {airport_dim_table_name} already exists in the dataset {dataset_name}.\")\n",
        "except:\n",
        "    airport_dim_table = bigquery.Table(airport_dim_table_ref, schema=weather_dim_table_schema)\n",
        "    client.create_table(airport_dim_table)\n",
        "    print(f\"{airport_dim_table_name} Created\")"
      ],
      "metadata": {
        "colab": {
          "base_uri": "https://localhost:8080/"
        },
        "id": "eDQw87RMUByq",
        "outputId": "beba03c9-be65-4cc2-9046-35eef5bbe028"
      },
      "id": "eDQw87RMUByq",
      "execution_count": 14,
      "outputs": [
        {
          "output_type": "stream",
          "name": "stdout",
          "text": [
            "travel_fact Created\n",
            "dim_date Created\n",
            "dim_weather Created\n",
            "dim_airport Created\n"
          ]
        }
      ]
    },
    {
      "cell_type": "markdown",
      "id": "47e481a4",
      "metadata": {
        "id": "47e481a4"
      },
      "source": [
        "# Read a dataset from your Google Cloud Storage into a Pandas DataFrame"
      ]
    },
    {
      "cell_type": "code",
      "execution_count": 16,
      "id": "f3c2a360",
      "metadata": {
        "id": "f3c2a360",
        "colab": {
          "base_uri": "https://localhost:8080/",
          "height": 394
        },
        "outputId": "33624172-df50-4d50-b2ba-549b5ef20e5f"
      },
      "outputs": [
        {
          "output_type": "execute_result",
          "data": {
            "text/plain": [
              "               city             datetime airportcode  \\\n",
              "0         Anchorage  2023-05-28 00:00:00         ANC   \n",
              "1           Atlanta  2023-05-28 00:00:00         ATL   \n",
              "2         Aguadilla  2023-05-28 00:00:00         BQN   \n",
              "3  South Burlington  2023-05-28 00:00:00         BTV   \n",
              "4         Arlington  2023-05-28 00:00:00         DCA   \n",
              "\n",
              "                           airportname state            checkpoint total  \\\n",
              "0  Ted Stevens Anchorage International    AK      South Checkpoint   113   \n",
              "1     Hartsfield Atlanta International    GA       Main Checkpoint   142   \n",
              "2                     Rafael Hernandez    PR  Rafael Hernandez Air   268   \n",
              "3             Burlington International    VT       Main Checkpoint     0   \n",
              "4           Washington Reagan National    VA           Concourse A     1   \n",
              "\n",
              "   temperature_2m  relative_humidity_2m  precipitation  weather_code  \\\n",
              "0          9.1645             70.430420            0.2          51.0   \n",
              "1         18.4115             50.383205            0.0           1.0   \n",
              "2         25.0070             95.328810            0.0           1.0   \n",
              "3         21.1440             54.437480            0.0           0.0   \n",
              "4         27.8830             43.359516            0.0           1.0   \n",
              "\n",
              "   wind_speed_10m   date_id  day  month  year  weatherid  airportid  travelid  \\\n",
              "0       13.556282  20230528   28      5  2023          1          1         1   \n",
              "1       20.898611  20230528   28      5  2023          2          2         2   \n",
              "2        3.219938  20230528   28      5  2023          3          3         3   \n",
              "3        6.989935  20230528   28      5  2023          4          4         4   \n",
              "4        8.161764  20230528   28      5  2023          5          5         5   \n",
              "\n",
              "         date  \n",
              "0  2023-05-28  \n",
              "1  2023-05-28  \n",
              "2  2023-05-28  \n",
              "3  2023-05-28  \n",
              "4  2023-05-28  "
            ],
            "text/html": [
              "\n",
              "  <div id=\"df-dcebde4f-60ba-4812-84f4-3ebaf0e90641\" class=\"colab-df-container\">\n",
              "    <div>\n",
              "<style scoped>\n",
              "    .dataframe tbody tr th:only-of-type {\n",
              "        vertical-align: middle;\n",
              "    }\n",
              "\n",
              "    .dataframe tbody tr th {\n",
              "        vertical-align: top;\n",
              "    }\n",
              "\n",
              "    .dataframe thead th {\n",
              "        text-align: right;\n",
              "    }\n",
              "</style>\n",
              "<table border=\"1\" class=\"dataframe\">\n",
              "  <thead>\n",
              "    <tr style=\"text-align: right;\">\n",
              "      <th></th>\n",
              "      <th>city</th>\n",
              "      <th>datetime</th>\n",
              "      <th>airportcode</th>\n",
              "      <th>airportname</th>\n",
              "      <th>state</th>\n",
              "      <th>checkpoint</th>\n",
              "      <th>total</th>\n",
              "      <th>temperature_2m</th>\n",
              "      <th>relative_humidity_2m</th>\n",
              "      <th>precipitation</th>\n",
              "      <th>weather_code</th>\n",
              "      <th>wind_speed_10m</th>\n",
              "      <th>date_id</th>\n",
              "      <th>day</th>\n",
              "      <th>month</th>\n",
              "      <th>year</th>\n",
              "      <th>weatherid</th>\n",
              "      <th>airportid</th>\n",
              "      <th>travelid</th>\n",
              "      <th>date</th>\n",
              "    </tr>\n",
              "  </thead>\n",
              "  <tbody>\n",
              "    <tr>\n",
              "      <th>0</th>\n",
              "      <td>Anchorage</td>\n",
              "      <td>2023-05-28 00:00:00</td>\n",
              "      <td>ANC</td>\n",
              "      <td>Ted Stevens Anchorage International</td>\n",
              "      <td>AK</td>\n",
              "      <td>South Checkpoint</td>\n",
              "      <td>113</td>\n",
              "      <td>9.1645</td>\n",
              "      <td>70.430420</td>\n",
              "      <td>0.2</td>\n",
              "      <td>51.0</td>\n",
              "      <td>13.556282</td>\n",
              "      <td>20230528</td>\n",
              "      <td>28</td>\n",
              "      <td>5</td>\n",
              "      <td>2023</td>\n",
              "      <td>1</td>\n",
              "      <td>1</td>\n",
              "      <td>1</td>\n",
              "      <td>2023-05-28</td>\n",
              "    </tr>\n",
              "    <tr>\n",
              "      <th>1</th>\n",
              "      <td>Atlanta</td>\n",
              "      <td>2023-05-28 00:00:00</td>\n",
              "      <td>ATL</td>\n",
              "      <td>Hartsfield Atlanta International</td>\n",
              "      <td>GA</td>\n",
              "      <td>Main Checkpoint</td>\n",
              "      <td>142</td>\n",
              "      <td>18.4115</td>\n",
              "      <td>50.383205</td>\n",
              "      <td>0.0</td>\n",
              "      <td>1.0</td>\n",
              "      <td>20.898611</td>\n",
              "      <td>20230528</td>\n",
              "      <td>28</td>\n",
              "      <td>5</td>\n",
              "      <td>2023</td>\n",
              "      <td>2</td>\n",
              "      <td>2</td>\n",
              "      <td>2</td>\n",
              "      <td>2023-05-28</td>\n",
              "    </tr>\n",
              "    <tr>\n",
              "      <th>2</th>\n",
              "      <td>Aguadilla</td>\n",
              "      <td>2023-05-28 00:00:00</td>\n",
              "      <td>BQN</td>\n",
              "      <td>Rafael Hernandez</td>\n",
              "      <td>PR</td>\n",
              "      <td>Rafael Hernandez Air</td>\n",
              "      <td>268</td>\n",
              "      <td>25.0070</td>\n",
              "      <td>95.328810</td>\n",
              "      <td>0.0</td>\n",
              "      <td>1.0</td>\n",
              "      <td>3.219938</td>\n",
              "      <td>20230528</td>\n",
              "      <td>28</td>\n",
              "      <td>5</td>\n",
              "      <td>2023</td>\n",
              "      <td>3</td>\n",
              "      <td>3</td>\n",
              "      <td>3</td>\n",
              "      <td>2023-05-28</td>\n",
              "    </tr>\n",
              "    <tr>\n",
              "      <th>3</th>\n",
              "      <td>South Burlington</td>\n",
              "      <td>2023-05-28 00:00:00</td>\n",
              "      <td>BTV</td>\n",
              "      <td>Burlington International</td>\n",
              "      <td>VT</td>\n",
              "      <td>Main Checkpoint</td>\n",
              "      <td>0</td>\n",
              "      <td>21.1440</td>\n",
              "      <td>54.437480</td>\n",
              "      <td>0.0</td>\n",
              "      <td>0.0</td>\n",
              "      <td>6.989935</td>\n",
              "      <td>20230528</td>\n",
              "      <td>28</td>\n",
              "      <td>5</td>\n",
              "      <td>2023</td>\n",
              "      <td>4</td>\n",
              "      <td>4</td>\n",
              "      <td>4</td>\n",
              "      <td>2023-05-28</td>\n",
              "    </tr>\n",
              "    <tr>\n",
              "      <th>4</th>\n",
              "      <td>Arlington</td>\n",
              "      <td>2023-05-28 00:00:00</td>\n",
              "      <td>DCA</td>\n",
              "      <td>Washington Reagan National</td>\n",
              "      <td>VA</td>\n",
              "      <td>Concourse A</td>\n",
              "      <td>1</td>\n",
              "      <td>27.8830</td>\n",
              "      <td>43.359516</td>\n",
              "      <td>0.0</td>\n",
              "      <td>1.0</td>\n",
              "      <td>8.161764</td>\n",
              "      <td>20230528</td>\n",
              "      <td>28</td>\n",
              "      <td>5</td>\n",
              "      <td>2023</td>\n",
              "      <td>5</td>\n",
              "      <td>5</td>\n",
              "      <td>5</td>\n",
              "      <td>2023-05-28</td>\n",
              "    </tr>\n",
              "  </tbody>\n",
              "</table>\n",
              "</div>\n",
              "    <div class=\"colab-df-buttons\">\n",
              "\n",
              "  <div class=\"colab-df-container\">\n",
              "    <button class=\"colab-df-convert\" onclick=\"convertToInteractive('df-dcebde4f-60ba-4812-84f4-3ebaf0e90641')\"\n",
              "            title=\"Convert this dataframe to an interactive table.\"\n",
              "            style=\"display:none;\">\n",
              "\n",
              "  <svg xmlns=\"http://www.w3.org/2000/svg\" height=\"24px\" viewBox=\"0 -960 960 960\">\n",
              "    <path d=\"M120-120v-720h720v720H120Zm60-500h600v-160H180v160Zm220 220h160v-160H400v160Zm0 220h160v-160H400v160ZM180-400h160v-160H180v160Zm440 0h160v-160H620v160ZM180-180h160v-160H180v160Zm440 0h160v-160H620v160Z\"/>\n",
              "  </svg>\n",
              "    </button>\n",
              "\n",
              "  <style>\n",
              "    .colab-df-container {\n",
              "      display:flex;\n",
              "      gap: 12px;\n",
              "    }\n",
              "\n",
              "    .colab-df-convert {\n",
              "      background-color: #E8F0FE;\n",
              "      border: none;\n",
              "      border-radius: 50%;\n",
              "      cursor: pointer;\n",
              "      display: none;\n",
              "      fill: #1967D2;\n",
              "      height: 32px;\n",
              "      padding: 0 0 0 0;\n",
              "      width: 32px;\n",
              "    }\n",
              "\n",
              "    .colab-df-convert:hover {\n",
              "      background-color: #E2EBFA;\n",
              "      box-shadow: 0px 1px 2px rgba(60, 64, 67, 0.3), 0px 1px 3px 1px rgba(60, 64, 67, 0.15);\n",
              "      fill: #174EA6;\n",
              "    }\n",
              "\n",
              "    .colab-df-buttons div {\n",
              "      margin-bottom: 4px;\n",
              "    }\n",
              "\n",
              "    [theme=dark] .colab-df-convert {\n",
              "      background-color: #3B4455;\n",
              "      fill: #D2E3FC;\n",
              "    }\n",
              "\n",
              "    [theme=dark] .colab-df-convert:hover {\n",
              "      background-color: #434B5C;\n",
              "      box-shadow: 0px 1px 3px 1px rgba(0, 0, 0, 0.15);\n",
              "      filter: drop-shadow(0px 1px 2px rgba(0, 0, 0, 0.3));\n",
              "      fill: #FFFFFF;\n",
              "    }\n",
              "  </style>\n",
              "\n",
              "    <script>\n",
              "      const buttonEl =\n",
              "        document.querySelector('#df-dcebde4f-60ba-4812-84f4-3ebaf0e90641 button.colab-df-convert');\n",
              "      buttonEl.style.display =\n",
              "        google.colab.kernel.accessAllowed ? 'block' : 'none';\n",
              "\n",
              "      async function convertToInteractive(key) {\n",
              "        const element = document.querySelector('#df-dcebde4f-60ba-4812-84f4-3ebaf0e90641');\n",
              "        const dataTable =\n",
              "          await google.colab.kernel.invokeFunction('convertToInteractive',\n",
              "                                                    [key], {});\n",
              "        if (!dataTable) return;\n",
              "\n",
              "        const docLinkHtml = 'Like what you see? Visit the ' +\n",
              "          '<a target=\"_blank\" href=https://colab.research.google.com/notebooks/data_table.ipynb>data table notebook</a>'\n",
              "          + ' to learn more about interactive tables.';\n",
              "        element.innerHTML = '';\n",
              "        dataTable['output_type'] = 'display_data';\n",
              "        await google.colab.output.renderOutput(dataTable, element);\n",
              "        const docLink = document.createElement('div');\n",
              "        docLink.innerHTML = docLinkHtml;\n",
              "        element.appendChild(docLink);\n",
              "      }\n",
              "    </script>\n",
              "  </div>\n",
              "\n",
              "\n",
              "<div id=\"df-00a7ad50-b0cb-44e7-b655-d72a08777acc\">\n",
              "  <button class=\"colab-df-quickchart\" onclick=\"quickchart('df-00a7ad50-b0cb-44e7-b655-d72a08777acc')\"\n",
              "            title=\"Suggest charts\"\n",
              "            style=\"display:none;\">\n",
              "\n",
              "<svg xmlns=\"http://www.w3.org/2000/svg\" height=\"24px\"viewBox=\"0 0 24 24\"\n",
              "     width=\"24px\">\n",
              "    <g>\n",
              "        <path d=\"M19 3H5c-1.1 0-2 .9-2 2v14c0 1.1.9 2 2 2h14c1.1 0 2-.9 2-2V5c0-1.1-.9-2-2-2zM9 17H7v-7h2v7zm4 0h-2V7h2v10zm4 0h-2v-4h2v4z\"/>\n",
              "    </g>\n",
              "</svg>\n",
              "  </button>\n",
              "\n",
              "<style>\n",
              "  .colab-df-quickchart {\n",
              "      --bg-color: #E8F0FE;\n",
              "      --fill-color: #1967D2;\n",
              "      --hover-bg-color: #E2EBFA;\n",
              "      --hover-fill-color: #174EA6;\n",
              "      --disabled-fill-color: #AAA;\n",
              "      --disabled-bg-color: #DDD;\n",
              "  }\n",
              "\n",
              "  [theme=dark] .colab-df-quickchart {\n",
              "      --bg-color: #3B4455;\n",
              "      --fill-color: #D2E3FC;\n",
              "      --hover-bg-color: #434B5C;\n",
              "      --hover-fill-color: #FFFFFF;\n",
              "      --disabled-bg-color: #3B4455;\n",
              "      --disabled-fill-color: #666;\n",
              "  }\n",
              "\n",
              "  .colab-df-quickchart {\n",
              "    background-color: var(--bg-color);\n",
              "    border: none;\n",
              "    border-radius: 50%;\n",
              "    cursor: pointer;\n",
              "    display: none;\n",
              "    fill: var(--fill-color);\n",
              "    height: 32px;\n",
              "    padding: 0;\n",
              "    width: 32px;\n",
              "  }\n",
              "\n",
              "  .colab-df-quickchart:hover {\n",
              "    background-color: var(--hover-bg-color);\n",
              "    box-shadow: 0 1px 2px rgba(60, 64, 67, 0.3), 0 1px 3px 1px rgba(60, 64, 67, 0.15);\n",
              "    fill: var(--button-hover-fill-color);\n",
              "  }\n",
              "\n",
              "  .colab-df-quickchart-complete:disabled,\n",
              "  .colab-df-quickchart-complete:disabled:hover {\n",
              "    background-color: var(--disabled-bg-color);\n",
              "    fill: var(--disabled-fill-color);\n",
              "    box-shadow: none;\n",
              "  }\n",
              "\n",
              "  .colab-df-spinner {\n",
              "    border: 2px solid var(--fill-color);\n",
              "    border-color: transparent;\n",
              "    border-bottom-color: var(--fill-color);\n",
              "    animation:\n",
              "      spin 1s steps(1) infinite;\n",
              "  }\n",
              "\n",
              "  @keyframes spin {\n",
              "    0% {\n",
              "      border-color: transparent;\n",
              "      border-bottom-color: var(--fill-color);\n",
              "      border-left-color: var(--fill-color);\n",
              "    }\n",
              "    20% {\n",
              "      border-color: transparent;\n",
              "      border-left-color: var(--fill-color);\n",
              "      border-top-color: var(--fill-color);\n",
              "    }\n",
              "    30% {\n",
              "      border-color: transparent;\n",
              "      border-left-color: var(--fill-color);\n",
              "      border-top-color: var(--fill-color);\n",
              "      border-right-color: var(--fill-color);\n",
              "    }\n",
              "    40% {\n",
              "      border-color: transparent;\n",
              "      border-right-color: var(--fill-color);\n",
              "      border-top-color: var(--fill-color);\n",
              "    }\n",
              "    60% {\n",
              "      border-color: transparent;\n",
              "      border-right-color: var(--fill-color);\n",
              "    }\n",
              "    80% {\n",
              "      border-color: transparent;\n",
              "      border-right-color: var(--fill-color);\n",
              "      border-bottom-color: var(--fill-color);\n",
              "    }\n",
              "    90% {\n",
              "      border-color: transparent;\n",
              "      border-bottom-color: var(--fill-color);\n",
              "    }\n",
              "  }\n",
              "</style>\n",
              "\n",
              "  <script>\n",
              "    async function quickchart(key) {\n",
              "      const quickchartButtonEl =\n",
              "        document.querySelector('#' + key + ' button');\n",
              "      quickchartButtonEl.disabled = true;  // To prevent multiple clicks.\n",
              "      quickchartButtonEl.classList.add('colab-df-spinner');\n",
              "      try {\n",
              "        const charts = await google.colab.kernel.invokeFunction(\n",
              "            'suggestCharts', [key], {});\n",
              "      } catch (error) {\n",
              "        console.error('Error during call to suggestCharts:', error);\n",
              "      }\n",
              "      quickchartButtonEl.classList.remove('colab-df-spinner');\n",
              "      quickchartButtonEl.classList.add('colab-df-quickchart-complete');\n",
              "    }\n",
              "    (() => {\n",
              "      let quickchartButtonEl =\n",
              "        document.querySelector('#df-00a7ad50-b0cb-44e7-b655-d72a08777acc button');\n",
              "      quickchartButtonEl.style.display =\n",
              "        google.colab.kernel.accessAllowed ? 'block' : 'none';\n",
              "    })();\n",
              "  </script>\n",
              "</div>\n",
              "    </div>\n",
              "  </div>\n"
            ]
          },
          "metadata": {},
          "execution_count": 16
        }
      ],
      "source": [
        "import pandas as pd\n",
        "from gcsfs import GCSFileSystem\n",
        "\n",
        "# Replace with you actual bucket and file path\n",
        "gcs_bucket = 'jsoncme'\n",
        "gcs_file_path = 'Final_Merged.csv'\n",
        "\n",
        "# Using Pandas to read the dataset from GCS into a DataFrame\n",
        "df = pd.read_csv(f'gcs://{gcs_bucket}/{gcs_file_path}')\n",
        "\n",
        "# Displaying the first few rows of the DataFrame\n",
        "df.head()\n"
      ]
    },
    {
      "cell_type": "markdown",
      "id": "aab34628",
      "metadata": {
        "id": "aab34628"
      },
      "source": [
        "# Load Data into BigQuery Tables"
      ]
    },
    {
      "cell_type": "code",
      "execution_count": 20,
      "id": "4546ebfe",
      "metadata": {
        "id": "4546ebfe"
      },
      "outputs": [],
      "source": [
        "# Creating a function that uploads your data to BigQuery from a DataFrame\n",
        "def upload_data_from_dataframe(df, table_ref):\n",
        "    job_config = bigquery.LoadJobConfig()\n",
        "    job_config.write_disposition = bigquery.WriteDisposition.WRITE_TRUNCATE\n",
        "    job_config.autodetect = True\n",
        "    job = client.load_table_from_dataframe(df, table_ref, job_config=job_config)\n",
        "    job.result()\n",
        "\n",
        "# Splitting your DataFrame into the respective dimension and fact DataFrames\n",
        "# fact_df, date_dim_df, airport_dim_df, weather_dim_df = split_your_dataframe(df_transformed)\n",
        "def split_df(df):\n",
        "    fact_cols = [\n",
        "    \"travelid\", \"date_id\", \"airportid\",\n",
        "    \"weatherid\", \"total\",\n",
        "    \"temperature_2m\", \"precipitation\",\n",
        "    \"relative_humidity_2m\", \"wind_speed_10m\"]\n",
        "\n",
        "    date_cols = [\n",
        "    \"date_id\", \"datetime\", \"day\", \"month\", \"year\"]\n",
        "\n",
        "\n",
        "    weather_cols = [\n",
        "    \"weatherid\", \"city\", \"weather_code\"]\n",
        "\n",
        "    airport_cols = [\n",
        "    \"airportid\", \"airportcode\", \"state\"]\n",
        "\n",
        "    fact_df = df[fact_cols]\n",
        "    date_dim_df = df[date_cols]\n",
        "    weather_dim_df = df[weather_cols]\n",
        "    airport_dim_df = df[airport_cols]\n",
        "\n",
        "    # Returning the split DataFrames\n",
        "    return fact_df, date_dim_df, weather_dim_df, airport_dim_df\n",
        "\n",
        "fact_df, date_dim_df, weather_dim_df, airport_dim_df = split_df(df)\n",
        "\n",
        "# Uploading the data to BigQuery\n",
        "upload_data_from_dataframe(fact_df, fact_table_ref)\n",
        "upload_data_from_dataframe(date_dim_df, date_dim_table_ref)\n",
        "upload_data_from_dataframe(weather_dim_df, weather_dim_table_ref)\n",
        "upload_data_from_dataframe(airport_dim_df, airport_dim_table_ref)"
      ]
    }
  ],
  "metadata": {
    "kernelspec": {
      "display_name": "Python 3 (ipykernel)",
      "language": "python",
      "name": "python3"
    },
    "language_info": {
      "codemirror_mode": {
        "name": "ipython",
        "version": 3
      },
      "file_extension": ".py",
      "mimetype": "text/x-python",
      "name": "python",
      "nbconvert_exporter": "python",
      "pygments_lexer": "ipython3",
      "version": "3.10.9"
    },
    "colab": {
      "provenance": []
    }
  },
  "nbformat": 4,
  "nbformat_minor": 5
}